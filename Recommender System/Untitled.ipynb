{
 "cells": [
  {
   "cell_type": "markdown",
   "metadata": {},
   "source": [
    "np.random.randn(d0, d1, ..., dn)\n",
    "Return a sample (or samples) from the “standard normal” distribution.\n",
    "\n",
    "Parameters:\n",
    "d0, d1, …, dnint, optional\n",
    "The dimensions of the returned array, must be non-negative. If no argument is given a single Python float is returned.\n",
    "\n",
    "Returns\n",
    "\n",
    "Zndarray or float\n",
    "A (d0, d1, ..., dn)-shaped array of floating-point samples from the standard normal distribution, or a single such float if no parameters were supplied."
   ]
  },
  {
   "cell_type": "code",
   "execution_count": 1,
   "metadata": {},
   "outputs": [
    {
     "data": {
      "text/plain": [
       "<AxesSubplot:>"
      ]
     },
     "execution_count": 1,
     "metadata": {},
     "output_type": "execute_result"
    },
    {
     "data": {
      "image/png": "[encoded data removed]",
      "text/plain": [
       "<Figure size 432x288 with 1 Axes>"
      ]
     },
     "metadata": {
      "needs_background": "light"
     },
     "output_type": "display_data"
    }
   ],
   "source": [
    "import numpy as np\n",
    "import pandas as pd\n",
    "# Create random data\n",
    "rd = pd.DataFrame(np.random.randn(100, 10))\n",
    "# Calculate all the desired values\n",
    "df = pd.DataFrame({'mean': rd.mean(), 'median': rd.median(),\n",
    "                   '25%': rd.quantile(0.25), '50%': rd.quantile(0.5),\n",
    "                   '75%': rd.quantile(0.75)})\n",
    "# And plot it\n",
    "df.plot()\n"
   ]
  },
  {
   "cell_type": "code",
   "execution_count": 2,
   "metadata": {},
   "outputs": [
    {
     "data": {
      "text/html": [
       "<div>\n",
       "<style scoped>\n",
       "    .dataframe tbody tr th:only-of-type {\n",
       "        vertical-align: middle;\n",
       "    }\n",
       "\n",
       "    .dataframe tbody tr th {\n",
       "        vertical-align: top;\n",
       "    }\n",
       "\n",
       "    .dataframe thead th {\n",
       "        text-align: right;\n",
       "    }\n",
       "</style>\n",
       "<table border=\"1\" class=\"dataframe\">\n",
       "  <thead>\n",
       "    <tr style=\"text-align: right;\">\n",
       "      <th></th>\n",
       "      <th>mean</th>\n",
       "      <th>median</th>\n",
       "      <th>25%</th>\n",
       "      <th>50%</th>\n",
       "      <th>75%</th>\n",
       "    </tr>\n",
       "  </thead>\n",
       "  <tbody>\n",
       "    <tr>\n",
       "      <th>0</th>\n",
       "      <td>-0.063049</td>\n",
       "      <td>-0.091135</td>\n",
       "      <td>-0.772281</td>\n",
       "      <td>-0.091135</td>\n",
       "      <td>0.630485</td>\n",
       "    </tr>\n",
       "    <tr>\n",
       "      <th>1</th>\n",
       "      <td>-0.173666</td>\n",
       "      <td>-0.243382</td>\n",
       "      <td>-0.890304</td>\n",
       "      <td>-0.243382</td>\n",
       "      <td>0.396960</td>\n",
       "    </tr>\n",
       "    <tr>\n",
       "      <th>2</th>\n",
       "      <td>0.012184</td>\n",
       "      <td>0.040102</td>\n",
       "      <td>-0.608646</td>\n",
       "      <td>0.040102</td>\n",
       "      <td>0.536964</td>\n",
       "    </tr>\n",
       "    <tr>\n",
       "      <th>3</th>\n",
       "      <td>0.019503</td>\n",
       "      <td>-0.074918</td>\n",
       "      <td>-0.918650</td>\n",
       "      <td>-0.074918</td>\n",
       "      <td>0.942312</td>\n",
       "    </tr>\n",
       "    <tr>\n",
       "      <th>4</th>\n",
       "      <td>0.020792</td>\n",
       "      <td>0.046955</td>\n",
       "      <td>-0.594653</td>\n",
       "      <td>0.046955</td>\n",
       "      <td>0.713661</td>\n",
       "    </tr>\n",
       "    <tr>\n",
       "      <th>5</th>\n",
       "      <td>-0.022193</td>\n",
       "      <td>0.019806</td>\n",
       "      <td>-0.488760</td>\n",
       "      <td>0.019806</td>\n",
       "      <td>0.505102</td>\n",
       "    </tr>\n",
       "    <tr>\n",
       "      <th>6</th>\n",
       "      <td>-0.063892</td>\n",
       "      <td>0.075504</td>\n",
       "      <td>-0.746935</td>\n",
       "      <td>0.075504</td>\n",
       "      <td>0.628392</td>\n",
       "    </tr>\n",
       "    <tr>\n",
       "      <th>7</th>\n",
       "      <td>0.071593</td>\n",
       "      <td>0.040657</td>\n",
       "      <td>-0.742982</td>\n",
       "      <td>0.040657</td>\n",
       "      <td>0.786419</td>\n",
       "    </tr>\n",
       "    <tr>\n",
       "      <th>8</th>\n",
       "      <td>-0.162267</td>\n",
       "      <td>-0.239299</td>\n",
       "      <td>-0.798117</td>\n",
       "      <td>-0.239299</td>\n",
       "      <td>0.503235</td>\n",
       "    </tr>\n",
       "    <tr>\n",
       "      <th>9</th>\n",
       "      <td>0.047795</td>\n",
       "      <td>-0.023028</td>\n",
       "      <td>-0.614401</td>\n",
       "      <td>-0.023028</td>\n",
       "      <td>0.769439</td>\n",
       "    </tr>\n",
       "  </tbody>\n",
       "</table>\n",
       "</div>"
      ],
      "text/plain": [
       "       mean    median       25%       50%       75%\n",
       "0 -0.063049 -0.091135 -0.772281 -0.091135  0.630485\n",
       "1 -0.173666 -0.243382 -0.890304 -0.243382  0.396960\n",
       "2  0.012184  0.040102 -0.608646  0.040102  0.536964\n",
       "3  0.019503 -0.074918 -0.918650 -0.074918  0.942312\n",
       "4  0.020792  0.046955 -0.594653  0.046955  0.713661\n",
       "5 -0.022193  0.019806 -0.488760  0.019806  0.505102\n",
       "6 -0.063892  0.075504 -0.746935  0.075504  0.628392\n",
       "7  0.071593  0.040657 -0.742982  0.040657  0.786419\n",
       "8 -0.162267 -0.239299 -0.798117 -0.239299  0.503235\n",
       "9  0.047795 -0.023028 -0.614401 -0.023028  0.769439"
      ]
     },
     "execution_count": 2,
     "metadata": {},
     "output_type": "execute_result"
    }
   ],
   "source": [
    "df"
   ]
  },
  {
   "cell_type": "code",
   "execution_count": 3,
   "metadata": {},
   "outputs": [
    {
     "data": {
      "text/html": [
       "<div>\n",
       "<style scoped>\n",
       "    .dataframe tbody tr th:only-of-type {\n",
       "        vertical-align: middle;\n",
       "    }\n",
       "\n",
       "    .dataframe tbody tr th {\n",
       "        vertical-align: top;\n",
       "    }\n",
       "\n",
       "    .dataframe thead th {\n",
       "        text-align: right;\n",
       "    }\n",
       "</style>\n",
       "<table border=\"1\" class=\"dataframe\">\n",
       "  <thead>\n",
       "    <tr style=\"text-align: right;\">\n",
       "      <th></th>\n",
       "      <th>0</th>\n",
       "      <th>1</th>\n",
       "      <th>2</th>\n",
       "      <th>3</th>\n",
       "      <th>4</th>\n",
       "      <th>5</th>\n",
       "      <th>6</th>\n",
       "      <th>7</th>\n",
       "      <th>8</th>\n",
       "      <th>9</th>\n",
       "    </tr>\n",
       "  </thead>\n",
       "  <tbody>\n",
       "    <tr>\n",
       "      <th>0</th>\n",
       "      <td>0.862491</td>\n",
       "      <td>-1.634396</td>\n",
       "      <td>0.062069</td>\n",
       "      <td>-0.909073</td>\n",
       "      <td>0.040399</td>\n",
       "      <td>1.186501</td>\n",
       "      <td>0.358272</td>\n",
       "      <td>0.016874</td>\n",
       "      <td>0.009747</td>\n",
       "      <td>1.397685</td>\n",
       "    </tr>\n",
       "    <tr>\n",
       "      <th>1</th>\n",
       "      <td>0.319398</td>\n",
       "      <td>0.714546</td>\n",
       "      <td>0.370131</td>\n",
       "      <td>-1.095123</td>\n",
       "      <td>0.712184</td>\n",
       "      <td>1.902548</td>\n",
       "      <td>-0.100439</td>\n",
       "      <td>-2.452012</td>\n",
       "      <td>-0.594646</td>\n",
       "      <td>1.039500</td>\n",
       "    </tr>\n",
       "    <tr>\n",
       "      <th>2</th>\n",
       "      <td>-0.915082</td>\n",
       "      <td>-0.408658</td>\n",
       "      <td>-0.689237</td>\n",
       "      <td>-0.273417</td>\n",
       "      <td>1.352352</td>\n",
       "      <td>-0.007730</td>\n",
       "      <td>0.673220</td>\n",
       "      <td>0.767790</td>\n",
       "      <td>-0.301325</td>\n",
       "      <td>-0.263618</td>\n",
       "    </tr>\n",
       "    <tr>\n",
       "      <th>3</th>\n",
       "      <td>-0.427464</td>\n",
       "      <td>-0.119683</td>\n",
       "      <td>-0.784731</td>\n",
       "      <td>-0.527724</td>\n",
       "      <td>-0.088727</td>\n",
       "      <td>0.482359</td>\n",
       "      <td>-1.193899</td>\n",
       "      <td>-1.076913</td>\n",
       "      <td>-1.545084</td>\n",
       "      <td>-0.041630</td>\n",
       "    </tr>\n",
       "    <tr>\n",
       "      <th>4</th>\n",
       "      <td>0.102436</td>\n",
       "      <td>0.472083</td>\n",
       "      <td>-0.068265</td>\n",
       "      <td>-0.522113</td>\n",
       "      <td>0.416583</td>\n",
       "      <td>0.286709</td>\n",
       "      <td>-0.139892</td>\n",
       "      <td>-1.017146</td>\n",
       "      <td>-0.532176</td>\n",
       "      <td>1.228690</td>\n",
       "    </tr>\n",
       "    <tr>\n",
       "      <th>...</th>\n",
       "      <td>...</td>\n",
       "      <td>...</td>\n",
       "      <td>...</td>\n",
       "      <td>...</td>\n",
       "      <td>...</td>\n",
       "      <td>...</td>\n",
       "      <td>...</td>\n",
       "      <td>...</td>\n",
       "      <td>...</td>\n",
       "      <td>...</td>\n",
       "    </tr>\n",
       "    <tr>\n",
       "      <th>95</th>\n",
       "      <td>0.633349</td>\n",
       "      <td>-0.759196</td>\n",
       "      <td>0.285914</td>\n",
       "      <td>1.306968</td>\n",
       "      <td>-0.970134</td>\n",
       "      <td>1.607617</td>\n",
       "      <td>1.503123</td>\n",
       "      <td>0.288209</td>\n",
       "      <td>0.423987</td>\n",
       "      <td>-0.144516</td>\n",
       "    </tr>\n",
       "    <tr>\n",
       "      <th>96</th>\n",
       "      <td>0.635490</td>\n",
       "      <td>0.189726</td>\n",
       "      <td>0.761610</td>\n",
       "      <td>-1.565797</td>\n",
       "      <td>-0.178614</td>\n",
       "      <td>1.058118</td>\n",
       "      <td>0.704645</td>\n",
       "      <td>0.079264</td>\n",
       "      <td>0.499804</td>\n",
       "      <td>-1.057190</td>\n",
       "    </tr>\n",
       "    <tr>\n",
       "      <th>97</th>\n",
       "      <td>0.716151</td>\n",
       "      <td>-1.028171</td>\n",
       "      <td>1.033001</td>\n",
       "      <td>0.574631</td>\n",
       "      <td>2.009520</td>\n",
       "      <td>0.326042</td>\n",
       "      <td>0.023256</td>\n",
       "      <td>-0.079583</td>\n",
       "      <td>-0.033234</td>\n",
       "      <td>-0.106729</td>\n",
       "    </tr>\n",
       "    <tr>\n",
       "      <th>98</th>\n",
       "      <td>-0.668953</td>\n",
       "      <td>1.301971</td>\n",
       "      <td>-0.817946</td>\n",
       "      <td>1.752354</td>\n",
       "      <td>-2.116001</td>\n",
       "      <td>-1.498163</td>\n",
       "      <td>0.137432</td>\n",
       "      <td>0.992188</td>\n",
       "      <td>-1.210316</td>\n",
       "      <td>-0.178462</td>\n",
       "    </tr>\n",
       "    <tr>\n",
       "      <th>99</th>\n",
       "      <td>-1.220612</td>\n",
       "      <td>0.395830</td>\n",
       "      <td>-1.288454</td>\n",
       "      <td>1.980833</td>\n",
       "      <td>-1.081323</td>\n",
       "      <td>1.757115</td>\n",
       "      <td>1.991325</td>\n",
       "      <td>0.512918</td>\n",
       "      <td>1.440872</td>\n",
       "      <td>-0.735496</td>\n",
       "    </tr>\n",
       "  </tbody>\n",
       "</table>\n",
       "<p>100 rows × 10 columns</p>\n",
       "</div>"
      ],
      "text/plain": [
       "           0         1         2         3         4         5         6  \\\n",
       "0   0.862491 -1.634396  0.062069 -0.909073  0.040399  1.186501  0.358272   \n",
       "1   0.319398  0.714546  0.370131 -1.095123  0.712184  1.902548 -0.100439   \n",
       "2  -0.915082 -0.408658 -0.689237 -0.273417  1.352352 -0.007730  0.673220   \n",
       "3  -0.427464 -0.119683 -0.784731 -0.527724 -0.088727  0.482359 -1.193899   \n",
       "4   0.102436  0.472083 -0.068265 -0.522113  0.416583  0.286709 -0.139892   \n",
       "..       ...       ...       ...       ...       ...       ...       ...   \n",
       "95  0.633349 -0.759196  0.285914  1.306968 -0.970134  1.607617  1.503123   \n",
       "96  0.635490  0.189726  0.761610 -1.565797 -0.178614  1.058118  0.704645   \n",
       "97  0.716151 -1.028171  1.033001  0.574631  2.009520  0.326042  0.023256   \n",
       "98 -0.668953  1.301971 -0.817946  1.752354 -2.116001 -1.498163  0.137432   \n",
       "99 -1.220612  0.395830 -1.288454  1.980833 -1.081323  1.757115  1.991325   \n",
       "\n",
       "           7         8         9  \n",
       "0   0.016874  0.009747  1.397685  \n",
       "1  -2.452012 -0.594646  1.039500  \n",
       "2   0.767790 -0.301325 -0.263618  \n",
       "3  -1.076913 -1.545084 -0.041630  \n",
       "4  -1.017146 -0.532176  1.228690  \n",
       "..       ...       ...       ...  \n",
       "95  0.288209  0.423987 -0.144516  \n",
       "96  0.079264  0.499804 -1.057190  \n",
       "97 -0.079583 -0.033234 -0.106729  \n",
       "98  0.992188 -1.210316 -0.178462  \n",
       "99  0.512918  1.440872 -0.735496  \n",
       "\n",
       "[100 rows x 10 columns]"
      ]
     },
     "execution_count": 3,
     "metadata": {},
     "output_type": "execute_result"
    }
   ],
   "source": [
    "rd"
   ]
  },
  {
   "cell_type": "code",
   "execution_count": 27,
   "metadata": {},
   "outputs": [],
   "source": [
    "import numpy as np\n",
    "\n",
    "\n",
    "a = np.random.randint(1,20,size=(10))"
   ]
  },
  {
   "cell_type": "code",
   "execution_count": 29,
   "metadata": {},
   "outputs": [
    {
     "data": {
      "text/plain": [
       "array([ 4, 16, 15, 11, 19,  4,  3, 18,  8,  4])"
      ]
     },
     "execution_count": 29,
     "metadata": {},
     "output_type": "execute_result"
    }
   ],
   "source": [
    "a"
   ]
  },
  {
   "cell_type": "code",
   "execution_count": 33,
   "metadata": {},
   "outputs": [],
   "source": [
    "i = a.argsort()[:5]"
   ]
  },
  {
   "cell_type": "code",
   "execution_count": 34,
   "metadata": {},
   "outputs": [
    {
     "data": {
      "text/plain": [
       "array([3, 4, 4, 4, 8])"
      ]
     },
     "execution_count": 34,
     "metadata": {},
     "output_type": "execute_result"
    }
   ],
   "source": [
    "a[i]"
   ]
  },
  {
   "cell_type": "code",
   "execution_count": 35,
   "metadata": {},
   "outputs": [
    {
     "name": "stdout",
     "output_type": "stream",
     "text": [
      "<class 'scipy.sparse.lil.lil_matrix'>\n",
      "Sparse matrix:\n",
      "[[0. 2. 0.]\n",
      " [0. 0. 1.]\n",
      " [3. 0. 0.]]\n",
      "\n",
      "Row 1 from the sparse matrix:\n",
      "[[0. 0. 1.]]\n"
     ]
    }
   ],
   "source": [
    "from scipy.sparse import lil_matrix\n",
    "\n",
    "# Create a sparse matrix\n",
    "matrix = lil_matrix((3, 3))\n",
    "matrix[0, 1] = 2  # Assign a non-zero value at row 0, column 1\n",
    "matrix[1, 2] = 1  # Assign a non-zero value at row 1, column 2\n",
    "matrix[2, 0] = 3  # Assign a non-zero value at row 2, column 0\n",
    "\n",
    "# Get a row from the sparse matrix\n",
    "row_index = 1\n",
    "row = matrix.getrow(row_index)\n",
    "\n",
    "print(type(row))\n",
    "\n",
    "print(\"Sparse matrix:\")\n",
    "print(matrix.toarray())  # Convert the sparse matrix to a dense array\n",
    "print(\"\\nRow\", row_index, \"from the sparse matrix:\")\n",
    "print(row.toarray())  # Convert the row to a dense array"
   ]
  },
  {
   "cell_type": "code",
   "execution_count": 36,
   "metadata": {},
   "outputs": [
    {
     "data": {
      "text/plain": [
       "(array([0, 1, 2], dtype=int32), array([1, 2, 0], dtype=int32))"
      ]
     },
     "execution_count": 36,
     "metadata": {},
     "output_type": "execute_result"
    }
   ],
   "source": [
    "matrix.nonzero()"
   ]
  },
  {
   "cell_type": "code",
   "execution_count": 37,
   "metadata": {},
   "outputs": [
    {
     "data": {
      "text/plain": [
       "(array([0, 0, 1, 2, 2], dtype=int32), array([0, 1, 2, 0, 2], dtype=int32))"
      ]
     },
     "execution_count": 37,
     "metadata": {},
     "output_type": "execute_result"
    }
   ],
   "source": [
    "from scipy.sparse import csr_matrix\n",
    "A = csr_matrix([[1,2,0],[0,0,3],[4,0,5]])\n",
    "A.nonzero()"
   ]
  },
  {
   "cell_type": "code",
   "execution_count": 38,
   "metadata": {},
   "outputs": [
    {
     "data": {
      "text/plain": [
       "<3x3 sparse matrix of type '<class 'numpy.int64'>'\n",
       "\twith 5 stored elements in Compressed Sparse Row format>"
      ]
     },
     "execution_count": 38,
     "metadata": {},
     "output_type": "execute_result"
    }
   ],
   "source": [
    "A"
   ]
  },
  {
   "cell_type": "code",
   "execution_count": 40,
   "metadata": {},
   "outputs": [
    {
     "data": {
      "text/plain": [
       "array([[1, 2, 3],\n",
       "       [4, 5, 6]])"
      ]
     },
     "execution_count": 40,
     "metadata": {},
     "output_type": "execute_result"
    }
   ],
   "source": [
    "x = np.array([[1, 2, 3], [4, 5, 6]])\n",
    "x"
   ]
  },
  {
   "cell_type": "code",
   "execution_count": 61,
   "metadata": {},
   "outputs": [],
   "source": [
    "y = np.ravel(x)"
   ]
  },
  {
   "cell_type": "code",
   "execution_count": 63,
   "metadata": {},
   "outputs": [
    {
     "data": {
      "text/plain": [
       "array([6, 5, 4, 3, 2, 1])"
      ]
     },
     "execution_count": 63,
     "metadata": {},
     "output_type": "execute_result"
    }
   ],
   "source": [
    "y[::-1]"
   ]
  },
  {
   "cell_type": "code",
   "execution_count": 42,
   "metadata": {},
   "outputs": [],
   "source": [
    "A = np.array([[2,1,2],[3,2,9], [-1,2,-3]])\n",
    "B = np.array([3,4,2])"
   ]
  },
  {
   "cell_type": "code",
   "execution_count": 43,
   "metadata": {},
   "outputs": [],
   "source": [
    "import numpy as np\n",
    "from numpy.linalg import norm\n",
    " "
   ]
  },
  {
   "cell_type": "code",
   "execution_count": 46,
   "metadata": {},
   "outputs": [
    {
     "data": {
      "text/plain": [
       "array([3.        , 9.69535971, 3.74165739])"
      ]
     },
     "execution_count": 46,
     "metadata": {},
     "output_type": "execute_result"
    }
   ],
   "source": [
    "norm(A, axis=1)"
   ]
  },
  {
   "cell_type": "code",
   "execution_count": 47,
   "metadata": {},
   "outputs": [
    {
     "data": {
      "text/plain": [
       "array([[ 2,  1,  2],\n",
       "       [ 3,  2,  9],\n",
       "       [-1,  2, -3]])"
      ]
     },
     "execution_count": 47,
     "metadata": {},
     "output_type": "execute_result"
    }
   ],
   "source": [
    "A"
   ]
  },
  {
   "cell_type": "code",
   "execution_count": 48,
   "metadata": {},
   "outputs": [
    {
     "data": {
      "text/plain": [
       "array([3, 4, 2])"
      ]
     },
     "execution_count": 48,
     "metadata": {},
     "output_type": "execute_result"
    }
   ],
   "source": [
    "B"
   ]
  },
  {
   "cell_type": "code",
   "execution_count": 50,
   "metadata": {},
   "outputs": [],
   "source": [
    "C = [1,2,4]"
   ]
  },
  {
   "cell_type": "code",
   "execution_count": 51,
   "metadata": {},
   "outputs": [
    {
     "data": {
      "text/plain": [
       "[1, 2, 4]"
      ]
     },
     "execution_count": 51,
     "metadata": {},
     "output_type": "execute_result"
    }
   ],
   "source": [
    "C"
   ]
  },
  {
   "cell_type": "code",
   "execution_count": 53,
   "metadata": {},
   "outputs": [],
   "source": [
    "C.extend([5])"
   ]
  },
  {
   "cell_type": "code",
   "execution_count": 54,
   "metadata": {},
   "outputs": [
    {
     "data": {
      "text/plain": [
       "[1, 2, 4, 5]"
      ]
     },
     "execution_count": 54,
     "metadata": {},
     "output_type": "execute_result"
    }
   ],
   "source": [
    "C"
   ]
  },
  {
   "cell_type": "code",
   "execution_count": 57,
   "metadata": {},
   "outputs": [],
   "source": [
    "C.extend([4]*10)"
   ]
  },
  {
   "cell_type": "code",
   "execution_count": 58,
   "metadata": {},
   "outputs": [
    {
     "data": {
      "text/plain": [
       "[1, 2, 4, 5, 4, 4, 4, 4, 4, 4, 4, 4, 4, 4, 4]"
      ]
     },
     "execution_count": 58,
     "metadata": {},
     "output_type": "execute_result"
    }
   ],
   "source": [
    "C"
   ]
  },
  {
   "cell_type": "code",
   "execution_count": null,
   "metadata": {},
   "outputs": [],
   "source": []
  }
 ],
 "metadata": {
  "kernelspec": {
   "display_name": "Python 3",
   "language": "python",
   "name": "python3"
  },
  "language_info": {
   "codemirror_mode": {
    "name": "ipython",
    "version": 3
   },
   "file_extension": ".py",
   "mimetype": "text/x-python",
   "name": "python",
   "nbconvert_exporter": "python",
   "pygments_lexer": "ipython3",
   "version": "3.8.5"
  }
 },
 "nbformat": 4,
 "nbformat_minor": 4
}
